{
 "cells": [
  {
   "cell_type": "code",
   "execution_count": 53,
   "id": "30cd2c16",
   "metadata": {},
   "outputs": [],
   "source": [
    "import numpy as np\n",
    "import pandas as pd"
   ]
  },
  {
   "cell_type": "code",
   "execution_count": 54,
   "id": "5aa13892",
   "metadata": {},
   "outputs": [],
   "source": [
    "recommended_list = [143, 156, 1134, 991, 27, 1543, 3345, 533, 11, 43]\n",
    "bought_list = [521, 32, 143, 991]\n",
    "prices_recommended = [400, 60, 40, 40 , 90]\n",
    "prices_bought = [400, 60, 40, 40 , 90]\n",
    "\n",
    "recommended_list_3_users = [[143, 156, 1134, 991, 27, 1543, 3345, 533, 11, 43],\n",
    " [1134, 533, 14, 4, 15, 1543, 1, 99, 27, 3345],\n",
    " [991, 3345, 27, 533, 43, 143, 1543, 156, 1134, 11]\n",
    " ]\n",
    "bought_list_3_users = [[521, 32, 143], \n",
    " [143, 156, 991, 43, 11], \n",
    " [1,2]]"
   ]
  },
  {
   "cell_type": "markdown",
   "id": "37ac3ae0",
   "metadata": {},
   "source": [
    "### Метрика hit_rate_at_k."
   ]
  },
  {
   "cell_type": "code",
   "execution_count": 55,
   "id": "bae7f6e3",
   "metadata": {},
   "outputs": [],
   "source": [
    "def hit_rate_at_k(recommended_list, bought_list, k=5):\n",
    "    \n",
    "    bought_list = np.array(bought_list)\n",
    "    recommended_list = np.array(recommended_list[:k])\n",
    "\n",
    "    flags = np.isin(bought_list, recommended_list)\n",
    "    return (flags.sum() > 0) * 1"
   ]
  },
  {
   "cell_type": "code",
   "execution_count": 56,
   "id": "fb7d6b1a",
   "metadata": {},
   "outputs": [
    {
     "data": {
      "text/plain": [
       "1"
      ]
     },
     "execution_count": 56,
     "metadata": {},
     "output_type": "execute_result"
    }
   ],
   "source": [
    "hit_rate_at_k(recommended_list, bought_list, k=5)"
   ]
  },
  {
   "cell_type": "markdown",
   "id": "65d818ae",
   "metadata": {},
   "source": [
    "### Метрика money_precision_at_k."
   ]
  },
  {
   "cell_type": "code",
   "execution_count": 57,
   "id": "55bc377c",
   "metadata": {},
   "outputs": [],
   "source": [
    "def money_precision_at_k_(recommended_list, bought_list, prices_recommended, k=5):\n",
    "\n",
    "    recommend_list = np.array(recommended_list)[:k]\n",
    "    prices_recommended = np.array(prices_recommended)[:k]\n",
    "\n",
    "    flags = np.isin(recommend_list, bought_list)\n",
    "\n",
    "    return np.dot(flags, prices_recommended).sum() / prices_recommended.sum()"
   ]
  },
  {
   "cell_type": "code",
   "execution_count": 58,
   "id": "44070cae",
   "metadata": {},
   "outputs": [
    {
     "data": {
      "text/plain": [
       "0.6984126984126984"
      ]
     },
     "execution_count": 58,
     "metadata": {},
     "output_type": "execute_result"
    }
   ],
   "source": [
    "money_precision_at_k_(recommended_list, bought_list, prices_recommended, k=5)"
   ]
  },
  {
   "cell_type": "markdown",
   "id": "ceb797fd",
   "metadata": {},
   "source": [
    "### Метрика recall_at_k."
   ]
  },
  {
   "cell_type": "code",
   "execution_count": 59,
   "id": "8d8907fe",
   "metadata": {},
   "outputs": [],
   "source": [
    "def recall_at_k(recommended_list, bought_list, k=5):\n",
    "    bought_list = np.array(bought_list)\n",
    "    recommended_list = np.array(recommended_list[:k])\n",
    "\n",
    "    flags = np.isin(bought_list, recommended_list)\n",
    "    return flags.sum() / len(bought_list)"
   ]
  },
  {
   "cell_type": "code",
   "execution_count": 60,
   "id": "fcfa08b5",
   "metadata": {},
   "outputs": [
    {
     "data": {
      "text/plain": [
       "0.5"
      ]
     },
     "execution_count": 60,
     "metadata": {},
     "output_type": "execute_result"
    }
   ],
   "source": [
    "recall_at_k(recommended_list, bought_list, k=5)"
   ]
  },
  {
   "cell_type": "markdown",
   "id": "604344d9",
   "metadata": {},
   "source": [
    "### Метрика money_recall_at_k."
   ]
  },
  {
   "cell_type": "code",
   "execution_count": 61,
   "id": "390c5ca0",
   "metadata": {},
   "outputs": [],
   "source": [
    "def money_recall_at_k(recommended_list, bought_list, prices_recommended, prices_bought, k=5):\n",
    "    bought_list = np.array(bought_list)\n",
    "    recommended_list = np.array(recommended_list[:k])\n",
    "    prices_recommended = np.array(prices_recommended[:k])\n",
    "    prices_bought = np.array(prices_bought)\n",
    "\n",
    "    bought_list = bought_list\n",
    "    recommended_list = recommended_list[:k]\n",
    "    prices_recommended = prices_recommended[:k]\n",
    "\n",
    "    flags = np.isin(recommended_list, bought_list)\n",
    "\n",
    "    return (prices_recommended * flags).sum() / prices_bought.sum()"
   ]
  },
  {
   "cell_type": "code",
   "execution_count": 62,
   "id": "111c0556",
   "metadata": {},
   "outputs": [
    {
     "data": {
      "text/plain": [
       "0.6984126984126984"
      ]
     },
     "execution_count": 62,
     "metadata": {},
     "output_type": "execute_result"
    }
   ],
   "source": [
    "money_recall_at_k(recommended_list, bought_list, prices_recommended, prices_bought, k=5)"
   ]
  },
  {
   "cell_type": "markdown",
   "id": "b4f2d7dc",
   "metadata": {},
   "source": [
    "### Метрика map_k."
   ]
  },
  {
   "cell_type": "code",
   "execution_count": 63,
   "id": "9ce8943a",
   "metadata": {},
   "outputs": [],
   "source": [
    "def map_k(recommended_list, bought_list, k=5):\n",
    "    \n",
    "    bought_list = np.array(bought_list)\n",
    "    recommended_list = np.array(recommended_list)[:k]\n",
    "    \n",
    "    relevant_indexes = np.nonzero(np.isin(recommended_list, bought_list))[0]\n",
    "    if len(relevant_indexes) == 0:\n",
    "        return 0\n",
    "    \n",
    "    amount_relevant = len(relevant_indexes)\n",
    "            \n",
    "    sum_ = sum([precision_at_k(recommended_list, bought_list, k=index_relevant+1) for index_relevant in relevant_indexes])\n",
    "    return sum_/amount_relevant"
   ]
  },
  {
   "cell_type": "code",
   "execution_count": 64,
   "id": "65ac9758",
   "metadata": {},
   "outputs": [],
   "source": [
    "def precision_at_k(recommended_list, bought_list, k=5):\n",
    "    \n",
    "    bought_list = np.array(bought_list)\n",
    "    recommended_list = np.array(recommended_list)\n",
    "    \n",
    "    bought_list = bought_list\n",
    "    recommended_list = recommended_list[:k]\n",
    "    \n",
    "    flags = np.isin(bought_list, recommended_list)\n",
    "    \n",
    "    return flags.sum() / len(recommended_list)"
   ]
  },
  {
   "cell_type": "code",
   "execution_count": 65,
   "id": "14cc68e3",
   "metadata": {},
   "outputs": [
    {
     "data": {
      "text/plain": [
       "0.75"
      ]
     },
     "execution_count": 65,
     "metadata": {},
     "output_type": "execute_result"
    }
   ],
   "source": [
    "map_k(recommended_list, bought_list, k=5)"
   ]
  },
  {
   "cell_type": "markdown",
   "id": "22b2831e",
   "metadata": {},
   "source": [
    "### Метрика reciprocal_rank."
   ]
  },
  {
   "cell_type": "code",
   "execution_count": 66,
   "id": "2a01ef5d",
   "metadata": {},
   "outputs": [],
   "source": [
    "def reciprocal_rank(recommended_list, bought_list, k):\n",
    "\n",
    "    bought_list = np.array(bought_list)\n",
    "    recommended_list = np.array(recommended_list[:k])\n",
    "    \n",
    "    flags = np.isin(recommended_list, bought_list)\n",
    "    nonzero_flags = np.nonzero(flags)[0]\n",
    "    \n",
    "    if len(nonzero_flags) == 0:\n",
    "        return 0.0\n",
    "    else:\n",
    "        return 1.0/(nonzero_flags[0]+1)"
   ]
  },
  {
   "cell_type": "code",
   "execution_count": 67,
   "id": "8b87eb28",
   "metadata": {},
   "outputs": [
    {
     "data": {
      "text/plain": [
       "1.0"
      ]
     },
     "execution_count": 67,
     "metadata": {},
     "output_type": "execute_result"
    }
   ],
   "source": [
    "reciprocal_rank(recommended_list, bought_list, k=1)"
   ]
  }
 ],
 "metadata": {
  "kernelspec": {
   "display_name": "Python 3 (ipykernel)",
   "language": "python",
   "name": "python3"
  },
  "language_info": {
   "codemirror_mode": {
    "name": "ipython",
    "version": 3
   },
   "file_extension": ".py",
   "mimetype": "text/x-python",
   "name": "python",
   "nbconvert_exporter": "python",
   "pygments_lexer": "ipython3",
   "version": "3.9.7"
  }
 },
 "nbformat": 4,
 "nbformat_minor": 5
}
